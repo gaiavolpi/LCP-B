{
 "cells": [
  {
   "cell_type": "code",
   "execution_count": 2,
   "metadata": {},
   "outputs": [],
   "source": [
    "import pandas as pd \n",
    "import numpy as np"
   ]
  },
  {
   "cell_type": "code",
   "execution_count": 3,
   "metadata": {},
   "outputs": [
    {
     "data": {
      "text/plain": [
       "(9806363, 22)"
      ]
     },
     "execution_count": 3,
     "metadata": {},
     "output_type": "execute_result"
    }
   ],
   "source": [
    "df = pd.read_csv(r\"C:\\Users\\ASUS\\Downloads\\Astro_project\\demo_Z0.00014\\output_0.csv\")\n",
    "df.shape"
   ]
  },
  {
   "cell_type": "markdown",
   "metadata": {},
   "source": [
    "### Wolf Rayet stars"
   ]
  },
  {
   "cell_type": "code",
   "execution_count": 4,
   "metadata": {
    "scrolled": true
   },
   "outputs": [
    {
     "name": "stdout",
     "output_type": "stream",
     "text": [
      "(893389, 22)\n"
     ]
    },
    {
     "data": {
      "text/html": [
       "<div>\n",
       "<style scoped>\n",
       "    .dataframe tbody tr th:only-of-type {\n",
       "        vertical-align: middle;\n",
       "    }\n",
       "\n",
       "    .dataframe tbody tr th {\n",
       "        vertical-align: top;\n",
       "    }\n",
       "\n",
       "    .dataframe thead th {\n",
       "        text-align: right;\n",
       "    }\n",
       "</style>\n",
       "<table border=\"1\" class=\"dataframe\">\n",
       "  <thead>\n",
       "    <tr style=\"text-align: right;\">\n",
       "      <th></th>\n",
       "      <th>ID</th>\n",
       "      <th>name</th>\n",
       "      <th>Mass_0</th>\n",
       "      <th>Radius_0</th>\n",
       "      <th>Phase_0</th>\n",
       "      <th>PhaseBSE_0</th>\n",
       "      <th>RemnantType_0</th>\n",
       "      <th>Hsup_0</th>\n",
       "      <th>Mass_1</th>\n",
       "      <th>Radius_1</th>\n",
       "      <th>...</th>\n",
       "      <th>RemnantType_1</th>\n",
       "      <th>Hsup_1</th>\n",
       "      <th>Semimajor</th>\n",
       "      <th>Eccentricity</th>\n",
       "      <th>BWorldtime</th>\n",
       "      <th>Period</th>\n",
       "      <th>GWtime</th>\n",
       "      <th>RL0</th>\n",
       "      <th>RL1</th>\n",
       "      <th>BEvent</th>\n",
       "    </tr>\n",
       "  </thead>\n",
       "  <tbody>\n",
       "    <tr>\n",
       "      <th>119</th>\n",
       "      <td>0</td>\n",
       "      <td>144668535680303</td>\n",
       "      <td>1.208462</td>\n",
       "      <td>0.000016</td>\n",
       "      <td>7</td>\n",
       "      <td>13.0</td>\n",
       "      <td>5</td>\n",
       "      <td>0.0</td>\n",
       "      <td>2.851923</td>\n",
       "      <td>0.392822</td>\n",
       "      <td>...</td>\n",
       "      <td>0</td>\n",
       "      <td>0.0</td>\n",
       "      <td>1.825792</td>\n",
       "      <td>0.0</td>\n",
       "      <td>25.26523</td>\n",
       "      <td>0.000388</td>\n",
       "      <td>119.2750</td>\n",
       "      <td>0.561580</td>\n",
       "      <td>0.830265</td>\n",
       "      <td>11</td>\n",
       "    </tr>\n",
       "    <tr>\n",
       "      <th>120</th>\n",
       "      <td>0</td>\n",
       "      <td>144668535680303</td>\n",
       "      <td>1.208462</td>\n",
       "      <td>0.000016</td>\n",
       "      <td>7</td>\n",
       "      <td>13.0</td>\n",
       "      <td>5</td>\n",
       "      <td>0.0</td>\n",
       "      <td>2.851923</td>\n",
       "      <td>0.392822</td>\n",
       "      <td>...</td>\n",
       "      <td>0</td>\n",
       "      <td>0.0</td>\n",
       "      <td>1.825792</td>\n",
       "      <td>0.0</td>\n",
       "      <td>25.26523</td>\n",
       "      <td>0.000388</td>\n",
       "      <td>119.2750</td>\n",
       "      <td>0.561580</td>\n",
       "      <td>0.830265</td>\n",
       "      <td>3</td>\n",
       "    </tr>\n",
       "    <tr>\n",
       "      <th>121</th>\n",
       "      <td>0</td>\n",
       "      <td>144668535680303</td>\n",
       "      <td>1.208547</td>\n",
       "      <td>0.000016</td>\n",
       "      <td>7</td>\n",
       "      <td>13.0</td>\n",
       "      <td>5</td>\n",
       "      <td>0.0</td>\n",
       "      <td>2.849096</td>\n",
       "      <td>0.403038</td>\n",
       "      <td>...</td>\n",
       "      <td>0</td>\n",
       "      <td>0.0</td>\n",
       "      <td>1.828423</td>\n",
       "      <td>0.0</td>\n",
       "      <td>25.44216</td>\n",
       "      <td>0.000389</td>\n",
       "      <td>120.1557</td>\n",
       "      <td>0.562543</td>\n",
       "      <td>0.831289</td>\n",
       "      <td>-1</td>\n",
       "    </tr>\n",
       "    <tr>\n",
       "      <th>122</th>\n",
       "      <td>0</td>\n",
       "      <td>144668535680303</td>\n",
       "      <td>1.208635</td>\n",
       "      <td>0.000016</td>\n",
       "      <td>7</td>\n",
       "      <td>13.0</td>\n",
       "      <td>5</td>\n",
       "      <td>0.0</td>\n",
       "      <td>2.846250</td>\n",
       "      <td>0.411176</td>\n",
       "      <td>...</td>\n",
       "      <td>0</td>\n",
       "      <td>0.0</td>\n",
       "      <td>1.831391</td>\n",
       "      <td>0.0</td>\n",
       "      <td>25.61908</td>\n",
       "      <td>0.000390</td>\n",
       "      <td>121.1322</td>\n",
       "      <td>0.563611</td>\n",
       "      <td>0.832463</td>\n",
       "      <td>-1</td>\n",
       "    </tr>\n",
       "    <tr>\n",
       "      <th>123</th>\n",
       "      <td>0</td>\n",
       "      <td>144668535680303</td>\n",
       "      <td>1.208725</td>\n",
       "      <td>0.000016</td>\n",
       "      <td>7</td>\n",
       "      <td>13.0</td>\n",
       "      <td>5</td>\n",
       "      <td>0.0</td>\n",
       "      <td>2.843405</td>\n",
       "      <td>0.419478</td>\n",
       "      <td>...</td>\n",
       "      <td>0</td>\n",
       "      <td>0.0</td>\n",
       "      <td>1.834617</td>\n",
       "      <td>0.0</td>\n",
       "      <td>25.79601</td>\n",
       "      <td>0.000391</td>\n",
       "      <td>122.1841</td>\n",
       "      <td>0.564759</td>\n",
       "      <td>0.833754</td>\n",
       "      <td>-1</td>\n",
       "    </tr>\n",
       "  </tbody>\n",
       "</table>\n",
       "<p>5 rows × 22 columns</p>\n",
       "</div>"
      ],
      "text/plain": [
       "     ID             name    Mass_0  Radius_0  Phase_0  PhaseBSE_0  \\\n",
       "119   0  144668535680303  1.208462  0.000016        7        13.0   \n",
       "120   0  144668535680303  1.208462  0.000016        7        13.0   \n",
       "121   0  144668535680303  1.208547  0.000016        7        13.0   \n",
       "122   0  144668535680303  1.208635  0.000016        7        13.0   \n",
       "123   0  144668535680303  1.208725  0.000016        7        13.0   \n",
       "\n",
       "     RemnantType_0  Hsup_0    Mass_1  Radius_1  ...  RemnantType_1  Hsup_1  \\\n",
       "119              5     0.0  2.851923  0.392822  ...              0     0.0   \n",
       "120              5     0.0  2.851923  0.392822  ...              0     0.0   \n",
       "121              5     0.0  2.849096  0.403038  ...              0     0.0   \n",
       "122              5     0.0  2.846250  0.411176  ...              0     0.0   \n",
       "123              5     0.0  2.843405  0.419478  ...              0     0.0   \n",
       "\n",
       "     Semimajor  Eccentricity  BWorldtime    Period    GWtime       RL0  \\\n",
       "119   1.825792           0.0    25.26523  0.000388  119.2750  0.561580   \n",
       "120   1.825792           0.0    25.26523  0.000388  119.2750  0.561580   \n",
       "121   1.828423           0.0    25.44216  0.000389  120.1557  0.562543   \n",
       "122   1.831391           0.0    25.61908  0.000390  121.1322  0.563611   \n",
       "123   1.834617           0.0    25.79601  0.000391  122.1841  0.564759   \n",
       "\n",
       "          RL1  BEvent  \n",
       "119  0.830265      11  \n",
       "120  0.830265       3  \n",
       "121  0.831289      -1  \n",
       "122  0.832463      -1  \n",
       "123  0.833754      -1  \n",
       "\n",
       "[5 rows x 22 columns]"
      ]
     },
     "execution_count": 4,
     "metadata": {},
     "output_type": "execute_result"
    }
   ],
   "source": [
    "df_WR = df[((df.PhaseBSE_0==8) |  (df.PhaseBSE_0==7) ) ^ ((df.PhaseBSE_1==8) | (df.PhaseBSE_1==7)) ]\n",
    "print(df_WR.shape)\n",
    "df_WR.head()"
   ]
  },
  {
   "cell_type": "code",
   "execution_count": 5,
   "metadata": {},
   "outputs": [],
   "source": [
    "id_WR = pd.unique(df_WR['ID'])"
   ]
  },
  {
   "cell_type": "markdown",
   "metadata": {},
   "source": [
    "### GW BBH merge"
   ]
  },
  {
   "cell_type": "code",
   "execution_count": 6,
   "metadata": {},
   "outputs": [],
   "source": [
    "df_GW = df[((df.PhaseBSE_0 == 14.0) & (df.PhaseBSE_1 == 14.0) & ((df.GWtime + df.BWorldtime) < int(14e+03)))]"
   ]
  },
  {
   "cell_type": "code",
   "execution_count": 7,
   "metadata": {},
   "outputs": [],
   "source": [
    "id_GW = pd.unique(df_GW['ID'])"
   ]
  },
  {
   "cell_type": "code",
   "execution_count": 8,
   "metadata": {},
   "outputs": [],
   "source": [
    "id_both = np.intersect1d(id_GW, id_WR)"
   ]
  },
  {
   "cell_type": "code",
   "execution_count": 9,
   "metadata": {},
   "outputs": [
    {
     "name": "stdout",
     "output_type": "stream",
     "text": [
      "Binary systs that evolve from WR and merge via GW:  718\n",
      "Binary systems that have a WR in some phase:  19674\n",
      "Binary systems that merge via GW:  857\n"
     ]
    }
   ],
   "source": [
    "print('Binary systs that evolve from WR and merge via GW: ', len(id_both))\n",
    "print('Binary systems that have a WR in some phase: ', len(id_WR))\n",
    "print('Binary systems that merge via GW: ', len(id_GW))"
   ]
  },
  {
   "cell_type": "markdown",
   "metadata": {},
   "source": [
    "### ROCHE LOBE"
   ]
  },
  {
   "cell_type": "code",
   "execution_count": null,
   "metadata": {},
   "outputs": [],
   "source": [
    "#DA CONTROLLARE\n",
    "#roche lobe: BEvent=4\n",
    "num_rochlob=(df_merge['BEvent']==4).sum()\n",
    "print(num_rochlob)\n",
    "num_ce=(df_merge['BEvent']==7).sum()\n",
    "print(num_ce)"
   ]
  }
 ],
 "metadata": {
  "kernelspec": {
   "display_name": "Python 3 (ipykernel)",
   "language": "python",
   "name": "python3"
  },
  "language_info": {
   "codemirror_mode": {
    "name": "ipython",
    "version": 3
   },
   "file_extension": ".py",
   "mimetype": "text/x-python",
   "name": "python",
   "nbconvert_exporter": "python",
   "pygments_lexer": "ipython3",
   "version": "3.9.18"
  }
 },
 "nbformat": 4,
 "nbformat_minor": 2
}
